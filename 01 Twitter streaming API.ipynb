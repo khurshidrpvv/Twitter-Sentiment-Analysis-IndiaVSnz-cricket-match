{
 "cells": [
  {
   "cell_type": "code",
   "execution_count": 16,
   "metadata": {
    "collapsed": true
   },
   "outputs": [],
   "source": [
    "import tweepy\n",
    "from tweepy.streaming import StreamListener\n",
    "from tweepy import OAuthHandler\n",
    "from tweepy import Stream\n",
    "import json"
   ]
  },
  {
   "cell_type": "code",
   "execution_count": 17,
   "metadata": {
    "collapsed": true
   },
   "outputs": [],
   "source": [
    "access_token = \"2416135428-fHf9NiWuq9zX5aTUjsK7cYHwPX9xjjOk4e2Bmp4\"\n",
    "access_token_secret = \"40UHyyh5uS1BgNPWs9OcPLA4vxv4MYQZvxDITbzZ0Hyj2\"\n",
    "consumer_key = \"BeFiddmjy0ReKMXEXfmza9GMI\"\n",
    "consumer_secret = \"1jdbg1XoTeDvIFFRHZbxjHLyo048G6CjaAUjazWpG8RF7VTdPl\""
   ]
  },
  {
   "cell_type": "code",
   "execution_count": null,
   "metadata": {
    "collapsed": false
   },
   "outputs": [],
   "source": [
    "fName = 'cricket.json'\n",
    "class StdOutListener(StreamListener):\n",
    "    def on_data(self, data):\n",
    "        try:\n",
    "            with open(fName, 'a') as f:\n",
    "                f.write(data)\n",
    "                return True\n",
    "        except BaseException as e:\n",
    "            print('Error on_data: %s' % str(e))\n",
    "        return True\n",
    "\n",
    "        def on_error(self, status):\n",
    "            print (status)"
   ]
  },
  {
   "cell_type": "code",
   "execution_count": null,
   "metadata": {
    "collapsed": false
   },
   "outputs": [],
   "source": [
    "auth = OAuthHandler(consumer_key, consumer_secret)\n",
    "auth.set_access_token(access_token, access_token_secret)\n",
    "\n",
    "twitterStream = Stream(auth, StdOutListener())\n",
    "twitterStream.filter(track=[\"#IndvsNz\"])\n"
   ]
  },
  {
   "cell_type": "code",
   "execution_count": null,
   "metadata": {
    "collapsed": true
   },
   "outputs": [],
   "source": []
  }
 ],
 "metadata": {
  "kernelspec": {
   "display_name": "Python 3",
   "language": "python",
   "name": "python3"
  },
  "language_info": {
   "codemirror_mode": {
    "name": "ipython",
    "version": 3
   },
   "file_extension": ".py",
   "mimetype": "text/x-python",
   "name": "python",
   "nbconvert_exporter": "python",
   "pygments_lexer": "ipython3",
   "version": "3.5.1"
  }
 },
 "nbformat": 4,
 "nbformat_minor": 0
}
